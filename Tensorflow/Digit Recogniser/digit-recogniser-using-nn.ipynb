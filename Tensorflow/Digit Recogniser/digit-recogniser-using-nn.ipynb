{
 "cells": [
  {
   "cell_type": "markdown",
   "metadata": {},
   "source": [
    "Importing Libraries"
   ]
  },
  {
   "cell_type": "code",
   "execution_count": 1,
   "metadata": {
    "_cell_guid": "79c7e3d0-c299-4dcb-8224-4455121ee9b0",
    "_uuid": "d629ff2d2480ee46fbb7e2d37f6b5fab8052498a"
   },
   "outputs": [
    {
     "name": "stderr",
     "output_type": "stream",
     "text": [
      "Using TensorFlow backend.\n"
     ]
    }
   ],
   "source": [
    "import numpy as np\n",
    "import pandas as pd\n",
    "import keras\n",
    "from keras.models import Sequential\n",
    "from keras.layers import Dense\n",
    "from sklearn.model_selection import train_test_split\n",
    "from sklearn.preprocessing import OneHotEncoder\n",
    "from sklearn import preprocessing\n",
    "from sklearn.metrics import accuracy_score\n",
    "import math\n",
    "import seaborn as sns\n",
    "from IPython import display\n",
    "from matplotlib import cm\n",
    "from matplotlib import gridspec\n",
    "from matplotlib import pyplot as plt\n",
    "import time"
   ]
  },
  {
   "cell_type": "code",
   "execution_count": 2,
   "metadata": {},
   "outputs": [],
   "source": [
    "train = pd.read_csv('train.csv')\n",
    "test = pd.read_csv('test.csv')"
   ]
  },
  {
   "cell_type": "code",
   "execution_count": 3,
   "metadata": {},
   "outputs": [
    {
     "name": "stdout",
     "output_type": "stream",
     "text": [
      "              label   pixel0   pixel1   pixel2   pixel3   pixel4   pixel5  \\\n",
      "count  42000.000000  42000.0  42000.0  42000.0  42000.0  42000.0  42000.0   \n",
      "mean       4.456643      0.0      0.0      0.0      0.0      0.0      0.0   \n",
      "std        2.887730      0.0      0.0      0.0      0.0      0.0      0.0   \n",
      "min        0.000000      0.0      0.0      0.0      0.0      0.0      0.0   \n",
      "25%        2.000000      0.0      0.0      0.0      0.0      0.0      0.0   \n",
      "50%        4.000000      0.0      0.0      0.0      0.0      0.0      0.0   \n",
      "75%        7.000000      0.0      0.0      0.0      0.0      0.0      0.0   \n",
      "max        9.000000      0.0      0.0      0.0      0.0      0.0      0.0   \n",
      "\n",
      "        pixel6   pixel7   pixel8  ...      pixel774      pixel775  \\\n",
      "count  42000.0  42000.0  42000.0  ...  42000.000000  42000.000000   \n",
      "mean       0.0      0.0      0.0  ...      0.219286      0.117095   \n",
      "std        0.0      0.0      0.0  ...      6.312890      4.633819   \n",
      "min        0.0      0.0      0.0  ...      0.000000      0.000000   \n",
      "25%        0.0      0.0      0.0  ...      0.000000      0.000000   \n",
      "50%        0.0      0.0      0.0  ...      0.000000      0.000000   \n",
      "75%        0.0      0.0      0.0  ...      0.000000      0.000000   \n",
      "max        0.0      0.0      0.0  ...    254.000000    254.000000   \n",
      "\n",
      "           pixel776     pixel777      pixel778      pixel779  pixel780  \\\n",
      "count  42000.000000  42000.00000  42000.000000  42000.000000   42000.0   \n",
      "mean       0.059024      0.02019      0.017238      0.002857       0.0   \n",
      "std        3.274488      1.75987      1.894498      0.414264       0.0   \n",
      "min        0.000000      0.00000      0.000000      0.000000       0.0   \n",
      "25%        0.000000      0.00000      0.000000      0.000000       0.0   \n",
      "50%        0.000000      0.00000      0.000000      0.000000       0.0   \n",
      "75%        0.000000      0.00000      0.000000      0.000000       0.0   \n",
      "max      253.000000    253.00000    254.000000     62.000000       0.0   \n",
      "\n",
      "       pixel781  pixel782  pixel783  \n",
      "count   42000.0   42000.0   42000.0  \n",
      "mean        0.0       0.0       0.0  \n",
      "std         0.0       0.0       0.0  \n",
      "min         0.0       0.0       0.0  \n",
      "25%         0.0       0.0       0.0  \n",
      "50%         0.0       0.0       0.0  \n",
      "75%         0.0       0.0       0.0  \n",
      "max         0.0       0.0       0.0  \n",
      "\n",
      "[8 rows x 785 columns]\n"
     ]
    }
   ],
   "source": [
    "print (train.describe())\t\t\t\t\t#Gives statitics of the data\n",
    "\n",
    "X_train = train.loc[:, train.columns != 'label']\n",
    "y_labels_train = train[\"label\"]\n",
    "# print (X_train)\n",
    "# print (y_labels_train)"
   ]
  },
  {
   "cell_type": "code",
   "execution_count": 4,
   "metadata": {},
   "outputs": [
    {
     "name": "stdout",
     "output_type": "stream",
     "text": [
      "        pixel0   pixel1   pixel2   pixel3   pixel4   pixel5   pixel6   pixel7  \\\n",
      "count  28000.0  28000.0  28000.0  28000.0  28000.0  28000.0  28000.0  28000.0   \n",
      "mean       0.0      0.0      0.0      0.0      0.0      0.0      0.0      0.0   \n",
      "std        0.0      0.0      0.0      0.0      0.0      0.0      0.0      0.0   \n",
      "min        0.0      0.0      0.0      0.0      0.0      0.0      0.0      0.0   \n",
      "25%        0.0      0.0      0.0      0.0      0.0      0.0      0.0      0.0   \n",
      "50%        0.0      0.0      0.0      0.0      0.0      0.0      0.0      0.0   \n",
      "75%        0.0      0.0      0.0      0.0      0.0      0.0      0.0      0.0   \n",
      "max        0.0      0.0      0.0      0.0      0.0      0.0      0.0      0.0   \n",
      "\n",
      "        pixel8   pixel9  ...      pixel774      pixel775      pixel776  \\\n",
      "count  28000.0  28000.0  ...  28000.000000  28000.000000  28000.000000   \n",
      "mean       0.0      0.0  ...      0.164607      0.073214      0.028036   \n",
      "std        0.0      0.0  ...      5.473293      3.616811      1.813602   \n",
      "min        0.0      0.0  ...      0.000000      0.000000      0.000000   \n",
      "25%        0.0      0.0  ...      0.000000      0.000000      0.000000   \n",
      "50%        0.0      0.0  ...      0.000000      0.000000      0.000000   \n",
      "75%        0.0      0.0  ...      0.000000      0.000000      0.000000   \n",
      "max        0.0      0.0  ...    253.000000    254.000000    193.000000   \n",
      "\n",
      "           pixel777      pixel778  pixel779  pixel780  pixel781  pixel782  \\\n",
      "count  28000.000000  28000.000000   28000.0   28000.0   28000.0   28000.0   \n",
      "mean       0.011250      0.006536       0.0       0.0       0.0       0.0   \n",
      "std        1.205211      0.807475       0.0       0.0       0.0       0.0   \n",
      "min        0.000000      0.000000       0.0       0.0       0.0       0.0   \n",
      "25%        0.000000      0.000000       0.0       0.0       0.0       0.0   \n",
      "50%        0.000000      0.000000       0.0       0.0       0.0       0.0   \n",
      "75%        0.000000      0.000000       0.0       0.0       0.0       0.0   \n",
      "max      187.000000    119.000000       0.0       0.0       0.0       0.0   \n",
      "\n",
      "       pixel783  \n",
      "count   28000.0  \n",
      "mean        0.0  \n",
      "std         0.0  \n",
      "min         0.0  \n",
      "25%         0.0  \n",
      "50%         0.0  \n",
      "75%         0.0  \n",
      "max         0.0  \n",
      "\n",
      "[8 rows x 784 columns]\n"
     ]
    }
   ],
   "source": [
    "print (test.describe())\t\t\t\t\t#Gives statitics of the data\n",
    "\n",
    "X_test = test.loc[:, test.columns != 'label']\n",
    "# print (X_test)"
   ]
  },
  {
   "cell_type": "code",
   "execution_count": 5,
   "metadata": {},
   "outputs": [
    {
     "name": "stdout",
     "output_type": "stream",
     "text": [
      "No.of Output Classes =  [0 1 2 3 4 5 6 7 8 9]\n"
     ]
    }
   ],
   "source": [
    "X_train = X_train.values\n",
    "X_test = X_test.values\n",
    "\n",
    "y_labels_train = y_labels_train.values\n",
    "lb = preprocessing.LabelBinarizer()\n",
    "lb.fit(y_labels_train)\n",
    "output_classes = lb.classes_\n",
    "print (\"No.of Output Classes = \",output_classes)\n",
    "y_train = lb.transform(y_labels_train)"
   ]
  },
  {
   "cell_type": "code",
   "execution_count": 6,
   "metadata": {},
   "outputs": [
    {
     "name": "stdout",
     "output_type": "stream",
     "text": [
      "{0: 4132, 1: 4684, 2: 4177, 3: 4351, 4: 4072, 5: 3795, 6: 4137, 7: 4401, 8: 4063, 9: 4188}\n"
     ]
    },
    {
     "data": {
      "image/png": "[encoded data removed]",
      "text/plain": [
       "<Figure size 432x288 with 1 Axes>"
      ]
     },
     "metadata": {
      "needs_background": "light"
     },
     "output_type": "display_data"
    }
   ],
   "source": [
    "Data_y = {}\n",
    "\n",
    "for i in output_classes:\n",
    "    Data_y[i] = 0\n",
    "for j in y_labels_train:\n",
    "    Data_y[j] += 1\n",
    "    \n",
    "print (Data_y)\n",
    "plt_ = sns.barplot(list(Data_y.keys()), list(Data_y.values()))\n",
    "plt_.set_xticklabels(plt_.get_xticklabels(), rotation=90)\n",
    "plt.show()"
   ]
  },
  {
   "cell_type": "code",
   "execution_count": 7,
   "metadata": {},
   "outputs": [
    {
     "name": "stdout",
     "output_type": "stream",
     "text": [
      "Shape of Training Set is (42000, 784)\n",
      "Shape of Test Set is (28000, 784)\n",
      "Shape of Training Set is (42000, 10)\n"
     ]
    }
   ],
   "source": [
    "print (\"Shape of Training Set is\",X_train.shape)\n",
    "print (\"Shape of Test Set is\",X_test.shape)\n",
    "\n",
    "print (\"Shape of Training Set is\",y_train.shape)"
   ]
  },
  {
   "cell_type": "code",
   "execution_count": 8,
   "metadata": {},
   "outputs": [
    {
     "name": "stdout",
     "output_type": "stream",
     "text": [
      "WARNING:tensorflow:From /home/krishna/Desktop/Anaconda/anaconda3/lib/python3.7/site-packages/keras/backend/tensorflow_backend.py:95: The name tf.reset_default_graph is deprecated. Please use tf.compat.v1.reset_default_graph instead.\n",
      "\n",
      "WARNING:tensorflow:From /home/krishna/Desktop/Anaconda/anaconda3/lib/python3.7/site-packages/keras/backend/tensorflow_backend.py:98: The name tf.placeholder_with_default is deprecated. Please use tf.compat.v1.placeholder_with_default instead.\n",
      "\n",
      "WARNING:tensorflow:From /home/krishna/Desktop/Anaconda/anaconda3/lib/python3.7/site-packages/keras/backend/tensorflow_backend.py:102: The name tf.get_default_graph is deprecated. Please use tf.compat.v1.get_default_graph instead.\n",
      "\n",
      "WARNING:tensorflow:From /home/krishna/Desktop/Anaconda/anaconda3/lib/python3.7/site-packages/keras/backend/tensorflow_backend.py:517: The name tf.placeholder is deprecated. Please use tf.compat.v1.placeholder instead.\n",
      "\n",
      "WARNING:tensorflow:From /home/krishna/Desktop/Anaconda/anaconda3/lib/python3.7/site-packages/keras/backend/tensorflow_backend.py:4138: The name tf.random_uniform is deprecated. Please use tf.random.uniform instead.\n",
      "\n"
     ]
    }
   ],
   "source": [
    "keras.backend.clear_session()\n",
    "model = Sequential()\n",
    "model.add(Dense(1024, input_dim=784, activation='sigmoid'))\n",
    "model.add(Dense(1024, activation='sigmoid'))\n",
    "model.add(Dense(128, activation='sigmoid'))\n",
    "model.add(Dense(128, activation='sigmoid'))\n",
    "model.add(Dense(10, activation='softmax'))"
   ]
  },
  {
   "cell_type": "code",
   "execution_count": 9,
   "metadata": {},
   "outputs": [
    {
     "name": "stdout",
     "output_type": "stream",
     "text": [
      "_________________________________________________________________\n",
      "Layer (type)                 Output Shape              Param #   \n",
      "=================================================================\n",
      "dense_1 (Dense)              (None, 1024)              803840    \n",
      "_________________________________________________________________\n",
      "dense_2 (Dense)              (None, 1024)              1049600   \n",
      "_________________________________________________________________\n",
      "dense_3 (Dense)              (None, 128)               131200    \n",
      "_________________________________________________________________\n",
      "dense_4 (Dense)              (None, 128)               16512     \n",
      "_________________________________________________________________\n",
      "dense_5 (Dense)              (None, 10)                1290      \n",
      "=================================================================\n",
      "Total params: 2,002,442\n",
      "Trainable params: 2,002,442\n",
      "Non-trainable params: 0\n",
      "_________________________________________________________________\n"
     ]
    }
   ],
   "source": [
    "model.summary()"
   ]
  },
  {
   "cell_type": "code",
   "execution_count": 10,
   "metadata": {},
   "outputs": [
    {
     "name": "stdout",
     "output_type": "stream",
     "text": [
      "WARNING:tensorflow:From /home/krishna/Desktop/Anaconda/anaconda3/lib/python3.7/site-packages/keras/optimizers.py:790: The name tf.train.Optimizer is deprecated. Please use tf.compat.v1.train.Optimizer instead.\n",
      "\n",
      "WARNING:tensorflow:From /home/krishna/Desktop/Anaconda/anaconda3/lib/python3.7/site-packages/keras/backend/tensorflow_backend.py:3295: The name tf.log is deprecated. Please use tf.math.log instead.\n",
      "\n"
     ]
    }
   ],
   "source": [
    "model.compile(loss='categorical_crossentropy', optimizer='adam', metrics=['accuracy'])"
   ]
  },
  {
   "cell_type": "code",
   "execution_count": 11,
   "metadata": {},
   "outputs": [
    {
     "name": "stdout",
     "output_type": "stream",
     "text": [
      "WARNING:tensorflow:From /home/krishna/Desktop/Anaconda/anaconda3/lib/python3.7/site-packages/tensorflow_core/python/ops/math_grad.py:1424: where (from tensorflow.python.ops.array_ops) is deprecated and will be removed in a future version.\n",
      "Instructions for updating:\n",
      "Use tf.where in 2.0, which has the same broadcast rule as np.where\n",
      "WARNING:tensorflow:From /home/krishna/Desktop/Anaconda/anaconda3/lib/python3.7/site-packages/keras/backend/tensorflow_backend.py:986: The name tf.assign_add is deprecated. Please use tf.compat.v1.assign_add instead.\n",
      "\n",
      "WARNING:tensorflow:From /home/krishna/Desktop/Anaconda/anaconda3/lib/python3.7/site-packages/keras/backend/tensorflow_backend.py:973: The name tf.assign is deprecated. Please use tf.compat.v1.assign instead.\n",
      "\n",
      "WARNING:tensorflow:From /home/krishna/Desktop/Anaconda/anaconda3/lib/python3.7/site-packages/keras/backend/tensorflow_backend.py:2741: The name tf.Session is deprecated. Please use tf.compat.v1.Session instead.\n",
      "\n",
      "Train on 37800 samples, validate on 4200 samples\n",
      "Epoch 1/64\n",
      "WARNING:tensorflow:From /home/krishna/Desktop/Anaconda/anaconda3/lib/python3.7/site-packages/keras/backend/tensorflow_backend.py:174: The name tf.get_default_session is deprecated. Please use tf.compat.v1.get_default_session instead.\n",
      "\n",
      "WARNING:tensorflow:From /home/krishna/Desktop/Anaconda/anaconda3/lib/python3.7/site-packages/keras/backend/tensorflow_backend.py:181: The name tf.ConfigProto is deprecated. Please use tf.compat.v1.ConfigProto instead.\n",
      "\n",
      "WARNING:tensorflow:From /home/krishna/Desktop/Anaconda/anaconda3/lib/python3.7/site-packages/keras/backend/tensorflow_backend.py:190: The name tf.global_variables is deprecated. Please use tf.compat.v1.global_variables instead.\n",
      "\n",
      "WARNING:tensorflow:From /home/krishna/Desktop/Anaconda/anaconda3/lib/python3.7/site-packages/keras/backend/tensorflow_backend.py:199: The name tf.is_variable_initialized is deprecated. Please use tf.compat.v1.is_variable_initialized instead.\n",
      "\n",
      "WARNING:tensorflow:From /home/krishna/Desktop/Anaconda/anaconda3/lib/python3.7/site-packages/keras/backend/tensorflow_backend.py:206: The name tf.variables_initializer is deprecated. Please use tf.compat.v1.variables_initializer instead.\n",
      "\n",
      "37800/37800 [==============================] - 6s 172us/step - loss: 2.2132 - acc: 0.2685 - val_loss: 1.9184 - val_acc: 0.4433\n",
      "Epoch 2/64\n",
      "37800/37800 [==============================] - 5s 127us/step - loss: 1.5912 - acc: 0.6699 - val_loss: 1.1990 - val_acc: 0.8319\n",
      "Epoch 3/64\n",
      "37800/37800 [==============================] - 5s 131us/step - loss: 0.9431 - acc: 0.8715 - val_loss: 0.6884 - val_acc: 0.9038\n",
      "Epoch 4/64\n",
      "37800/37800 [==============================] - 5s 127us/step - loss: 0.5502 - acc: 0.9136 - val_loss: 0.4354 - val_acc: 0.9200\n",
      "Epoch 5/64\n",
      "37800/37800 [==============================] - 5s 139us/step - loss: 0.3657 - acc: 0.9316 - val_loss: 0.3227 - val_acc: 0.9321\n",
      "Epoch 6/64\n",
      "37800/37800 [==============================] - 6s 150us/step - loss: 0.2735 - acc: 0.9437 - val_loss: 0.2636 - val_acc: 0.9405\n",
      "Epoch 7/64\n",
      "37800/37800 [==============================] - 6s 147us/step - loss: 0.2238 - acc: 0.9510 - val_loss: 0.2302 - val_acc: 0.9467\n",
      "Epoch 8/64\n",
      "37800/37800 [==============================] - 6s 155us/step - loss: 0.1894 - acc: 0.9572 - val_loss: 0.2044 - val_acc: 0.9495\n",
      "Epoch 9/64\n",
      "37800/37800 [==============================] - 6s 156us/step - loss: 0.1661 - acc: 0.9621 - val_loss: 0.1873 - val_acc: 0.9536\n",
      "Epoch 10/64\n",
      "37800/37800 [==============================] - 8s 209us/step - loss: 0.1476 - acc: 0.9657 - val_loss: 0.1728 - val_acc: 0.9555\n",
      "Epoch 11/64\n",
      "37800/37800 [==============================] - 8s 212us/step - loss: 0.1346 - acc: 0.9677 - val_loss: 0.1652 - val_acc: 0.9560\n",
      "Epoch 12/64\n",
      "37800/37800 [==============================] - 8s 216us/step - loss: 0.1268 - acc: 0.9687 - val_loss: 0.1586 - val_acc: 0.9569\n",
      "Epoch 13/64\n",
      "37800/37800 [==============================] - 8s 215us/step - loss: 0.1215 - acc: 0.9699 - val_loss: 0.1577 - val_acc: 0.9555\n",
      "Epoch 14/64\n",
      "37800/37800 [==============================] - 8s 218us/step - loss: 0.1101 - acc: 0.9719 - val_loss: 0.1455 - val_acc: 0.9581\n",
      "Epoch 15/64\n",
      "37800/37800 [==============================] - 6s 156us/step - loss: 0.1032 - acc: 0.9741 - val_loss: 0.1458 - val_acc: 0.9621\n",
      "Epoch 16/64\n",
      "37800/37800 [==============================] - 6s 150us/step - loss: 0.1032 - acc: 0.9722 - val_loss: 0.1458 - val_acc: 0.9593\n",
      "Epoch 17/64\n",
      "37800/37800 [==============================] - 8s 204us/step - loss: 0.0981 - acc: 0.9739 - val_loss: 0.1309 - val_acc: 0.9631\n",
      "Epoch 18/64\n",
      "37800/37800 [==============================] - 8s 218us/step - loss: 0.0945 - acc: 0.9738 - val_loss: 0.1289 - val_acc: 0.9633\n",
      "Epoch 19/64\n",
      "37800/37800 [==============================] - 8s 216us/step - loss: 0.0897 - acc: 0.9756 - val_loss: 0.1325 - val_acc: 0.9619\n",
      "Epoch 20/64\n",
      "37800/37800 [==============================] - 8s 223us/step - loss: 0.0866 - acc: 0.9763 - val_loss: 0.1276 - val_acc: 0.9631\n",
      "Epoch 21/64\n",
      "37800/37800 [==============================] - 8s 212us/step - loss: 0.0821 - acc: 0.9772 - val_loss: 0.1296 - val_acc: 0.9621\n",
      "Epoch 22/64\n",
      "37800/37800 [==============================] - 6s 160us/step - loss: 0.0844 - acc: 0.9765 - val_loss: 0.1321 - val_acc: 0.9621\n",
      "Epoch 23/64\n",
      "37800/37800 [==============================] - 6s 151us/step - loss: 0.0767 - acc: 0.9781 - val_loss: 0.1311 - val_acc: 0.9612\n",
      "Epoch 24/64\n",
      "37800/37800 [==============================] - 8s 211us/step - loss: 0.0743 - acc: 0.9796 - val_loss: 0.1292 - val_acc: 0.9600\n",
      "Epoch 25/64\n",
      "37800/37800 [==============================] - 8s 215us/step - loss: 0.0784 - acc: 0.9775 - val_loss: 0.1322 - val_acc: 0.9612\n",
      "Epoch 26/64\n",
      "37800/37800 [==============================] - 8s 209us/step - loss: 0.0795 - acc: 0.9771 - val_loss: 0.1314 - val_acc: 0.9583\n",
      "Epoch 27/64\n",
      "37800/37800 [==============================] - 8s 216us/step - loss: 0.0749 - acc: 0.9783 - val_loss: 0.1226 - val_acc: 0.9629\n",
      "Epoch 28/64\n",
      "37800/37800 [==============================] - 8s 217us/step - loss: 0.0703 - acc: 0.9799 - val_loss: 0.1271 - val_acc: 0.9607\n",
      "Epoch 29/64\n",
      "37800/37800 [==============================] - 6s 150us/step - loss: 0.0653 - acc: 0.9812 - val_loss: 0.1240 - val_acc: 0.9617\n",
      "Epoch 30/64\n",
      "37800/37800 [==============================] - 6s 163us/step - loss: 0.0635 - acc: 0.9822 - val_loss: 0.1292 - val_acc: 0.9600\n",
      "Epoch 31/64\n",
      "37800/37800 [==============================] - 8s 215us/step - loss: 0.0643 - acc: 0.9809 - val_loss: 0.1215 - val_acc: 0.9640\n",
      "Epoch 32/64\n",
      "37800/37800 [==============================] - 8s 214us/step - loss: 0.0669 - acc: 0.9803 - val_loss: 0.1263 - val_acc: 0.9636\n",
      "Epoch 33/64\n",
      "37800/37800 [==============================] - 8s 215us/step - loss: 0.0628 - acc: 0.9819 - val_loss: 0.1260 - val_acc: 0.9617\n",
      "Epoch 34/64\n",
      "37800/37800 [==============================] - 8s 216us/step - loss: 0.0647 - acc: 0.9803 - val_loss: 0.1268 - val_acc: 0.9590\n",
      "Epoch 35/64\n",
      "37800/37800 [==============================] - 8s 214us/step - loss: 0.0620 - acc: 0.9816 - val_loss: 0.1279 - val_acc: 0.9643\n",
      "Epoch 36/64\n",
      "37800/37800 [==============================] - 6s 157us/step - loss: 0.0623 - acc: 0.9814 - val_loss: 0.1175 - val_acc: 0.9652\n",
      "Epoch 37/64\n",
      "37800/37800 [==============================] - 6s 157us/step - loss: 0.0599 - acc: 0.9814 - val_loss: 0.1226 - val_acc: 0.9612\n",
      "Epoch 38/64\n",
      "37800/37800 [==============================] - 9s 226us/step - loss: 0.0608 - acc: 0.9812 - val_loss: 0.1366 - val_acc: 0.9621\n",
      "Epoch 39/64\n",
      "37800/37800 [==============================] - 8s 221us/step - loss: 0.0616 - acc: 0.9814 - val_loss: 0.1349 - val_acc: 0.9605\n",
      "Epoch 40/64\n",
      "37800/37800 [==============================] - 8s 219us/step - loss: 0.0650 - acc: 0.9798 - val_loss: 0.1266 - val_acc: 0.9638\n",
      "Epoch 41/64\n",
      "37800/37800 [==============================] - 8s 217us/step - loss: 0.0650 - acc: 0.9803 - val_loss: 0.1261 - val_acc: 0.9600\n",
      "Epoch 42/64\n",
      "37800/37800 [==============================] - 8s 207us/step - loss: 0.0591 - acc: 0.9817 - val_loss: 0.1193 - val_acc: 0.9648\n",
      "Epoch 43/64\n",
      "37800/37800 [==============================] - 6s 158us/step - loss: 0.0572 - acc: 0.9820 - val_loss: 0.1276 - val_acc: 0.9629\n",
      "Epoch 44/64\n"
     ]
    },
    {
     "name": "stdout",
     "output_type": "stream",
     "text": [
      "37800/37800 [==============================] - 6s 169us/step - loss: 0.0589 - acc: 0.9825 - val_loss: 0.1220 - val_acc: 0.9640\n",
      "Epoch 45/64\n",
      "37800/37800 [==============================] - 8s 214us/step - loss: 0.0565 - acc: 0.9823 - val_loss: 0.1201 - val_acc: 0.9636\n",
      "Epoch 46/64\n",
      "37800/37800 [==============================] - 8s 212us/step - loss: 0.0542 - acc: 0.9825 - val_loss: 0.1235 - val_acc: 0.9633\n",
      "Epoch 47/64\n",
      "37800/37800 [==============================] - 8s 214us/step - loss: 0.0591 - acc: 0.9815 - val_loss: 0.1366 - val_acc: 0.9590\n",
      "Epoch 48/64\n",
      "37800/37800 [==============================] - 8s 210us/step - loss: 0.0564 - acc: 0.9822 - val_loss: 0.1271 - val_acc: 0.9633\n",
      "Epoch 49/64\n",
      "37800/37800 [==============================] - 8s 201us/step - loss: 0.0560 - acc: 0.9820 - val_loss: 0.1127 - val_acc: 0.9674\n",
      "Epoch 50/64\n",
      "37800/37800 [==============================] - 6s 155us/step - loss: 0.0509 - acc: 0.9843 - val_loss: 0.1233 - val_acc: 0.9619\n",
      "Epoch 51/64\n",
      "37800/37800 [==============================] - 6s 172us/step - loss: 0.0547 - acc: 0.9832 - val_loss: 0.1249 - val_acc: 0.9621\n",
      "Epoch 52/64\n",
      "37800/37800 [==============================] - 8s 215us/step - loss: 0.0533 - acc: 0.9838 - val_loss: 0.1174 - val_acc: 0.9645\n",
      "Epoch 53/64\n",
      "37800/37800 [==============================] - 8s 218us/step - loss: 0.0490 - acc: 0.9847 - val_loss: 0.1137 - val_acc: 0.9669\n",
      "Epoch 54/64\n",
      "37800/37800 [==============================] - 8s 222us/step - loss: 0.0478 - acc: 0.9850 - val_loss: 0.1179 - val_acc: 0.9638\n",
      "Epoch 55/64\n",
      "37800/37800 [==============================] - 8s 214us/step - loss: 0.0496 - acc: 0.9844 - val_loss: 0.1141 - val_acc: 0.9655\n",
      "Epoch 56/64\n",
      "37800/37800 [==============================] - 7s 193us/step - loss: 0.0472 - acc: 0.9854 - val_loss: 0.1225 - val_acc: 0.9650\n",
      "Epoch 57/64\n",
      "37800/37800 [==============================] - 6s 151us/step - loss: 0.0492 - acc: 0.9848 - val_loss: 0.1284 - val_acc: 0.9614\n",
      "Epoch 58/64\n",
      "37800/37800 [==============================] - 7s 186us/step - loss: 0.0482 - acc: 0.9844 - val_loss: 0.1225 - val_acc: 0.9633\n",
      "Epoch 59/64\n",
      "37800/37800 [==============================] - 8s 222us/step - loss: 0.0457 - acc: 0.9856 - val_loss: 0.1243 - val_acc: 0.9629\n",
      "Epoch 60/64\n",
      "37800/37800 [==============================] - 8s 212us/step - loss: 0.0428 - acc: 0.9863 - val_loss: 0.1231 - val_acc: 0.9638\n",
      "Epoch 61/64\n",
      "37800/37800 [==============================] - 8s 218us/step - loss: 0.0447 - acc: 0.9863 - val_loss: 0.1126 - val_acc: 0.9667\n",
      "Epoch 62/64\n",
      "37800/37800 [==============================] - 8s 220us/step - loss: 0.0417 - acc: 0.9873 - val_loss: 0.1158 - val_acc: 0.9664\n",
      "Epoch 63/64\n",
      "37800/37800 [==============================] - 7s 175us/step - loss: 0.0448 - acc: 0.9861 - val_loss: 0.1211 - val_acc: 0.9638\n",
      "Epoch 64/64\n",
      "37800/37800 [==============================] - 6s 157us/step - loss: 0.0509 - acc: 0.9836 - val_loss: 0.1146 - val_acc: 0.9679\n"
     ]
    },
    {
     "data": {
      "text/plain": [
       "<keras.callbacks.History at 0x7f9946de5a10>"
      ]
     },
     "execution_count": 11,
     "metadata": {},
     "output_type": "execute_result"
    }
   ],
   "source": [
    "model.fit(X_train, y_train, epochs=64, validation_split = 0.1, batch_size = 2048)"
   ]
  },
  {
   "cell_type": "code",
   "execution_count": 12,
   "metadata": {},
   "outputs": [
    {
     "data": {
      "text/plain": [
       "array([[2],\n",
       "       [0],\n",
       "       [9],\n",
       "       ...,\n",
       "       [3],\n",
       "       [9],\n",
       "       [2]])"
      ]
     },
     "execution_count": 12,
     "metadata": {},
     "output_type": "execute_result"
    }
   ],
   "source": [
    "result = model.predict(X_test)\n",
    "predictions = np.apply_along_axis(lambda row: np.argmax(row),1,result)\n",
    "predictions.reshape([-1,1])"
   ]
  },
  {
   "cell_type": "code",
   "execution_count": 13,
   "metadata": {},
   "outputs": [
    {
     "name": "stdout",
     "output_type": "stream",
     "text": [
      "[2 0 9 ... 3 9 2]\n"
     ]
    }
   ],
   "source": [
    "print (predictions)"
   ]
  },
  {
   "cell_type": "code",
   "execution_count": 14,
   "metadata": {},
   "outputs": [
    {
     "name": "stdout",
     "output_type": "stream",
     "text": [
      "28000\n"
     ]
    },
    {
     "data": {
      "text/html": [
       "<div>\n",
       "<style scoped>\n",
       "    .dataframe tbody tr th:only-of-type {\n",
       "        vertical-align: middle;\n",
       "    }\n",
       "\n",
       "    .dataframe tbody tr th {\n",
       "        vertical-align: top;\n",
       "    }\n",
       "\n",
       "    .dataframe thead th {\n",
       "        text-align: right;\n",
       "    }\n",
       "</style>\n",
       "<table border=\"1\" class=\"dataframe\">\n",
       "  <thead>\n",
       "    <tr style=\"text-align: right;\">\n",
       "      <th></th>\n",
       "      <th>ImageId</th>\n",
       "      <th>Label</th>\n",
       "    </tr>\n",
       "  </thead>\n",
       "  <tbody>\n",
       "    <tr>\n",
       "      <td>27995</td>\n",
       "      <td>27996</td>\n",
       "      <td>9</td>\n",
       "    </tr>\n",
       "    <tr>\n",
       "      <td>27996</td>\n",
       "      <td>27997</td>\n",
       "      <td>7</td>\n",
       "    </tr>\n",
       "    <tr>\n",
       "      <td>27997</td>\n",
       "      <td>27998</td>\n",
       "      <td>3</td>\n",
       "    </tr>\n",
       "    <tr>\n",
       "      <td>27998</td>\n",
       "      <td>27999</td>\n",
       "      <td>9</td>\n",
       "    </tr>\n",
       "    <tr>\n",
       "      <td>27999</td>\n",
       "      <td>28000</td>\n",
       "      <td>2</td>\n",
       "    </tr>\n",
       "  </tbody>\n",
       "</table>\n",
       "</div>"
      ],
      "text/plain": [
       "       ImageId  Label\n",
       "27995    27996      9\n",
       "27996    27997      7\n",
       "27997    27998      3\n",
       "27998    27999      9\n",
       "27999    28000      2"
      ]
     },
     "execution_count": 14,
     "metadata": {},
     "output_type": "execute_result"
    }
   ],
   "source": [
    "output_test_data = pd.DataFrame() \n",
    "output_test_data['Label'] = predictions\n",
    "rows = predictions.shape[0]\n",
    "print (rows)\n",
    "output_test_data['ImageId'] = list(np.arange(1,rows+1))\n",
    "submission = output_test_data[['ImageId','Label']]\n",
    "submission.to_csv(\"submission.csv\", index=False)\n",
    "submission.tail()"
   ]
  }
 ],
 "metadata": {
  "kernelspec": {
   "display_name": "Python 3",
   "language": "python",
   "name": "python3"
  },
  "language_info": {
   "codemirror_mode": {
    "name": "ipython",
    "version": 3
   },
   "file_extension": ".py",
   "mimetype": "text/x-python",
   "name": "python",
   "nbconvert_exporter": "python",
   "pygments_lexer": "ipython3",
   "version": "3.7.4"
  }
 },
 "nbformat": 4,
 "nbformat_minor": 1
}
